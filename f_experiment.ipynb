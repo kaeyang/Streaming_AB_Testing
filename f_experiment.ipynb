{
 "cells": [
  {
   "cell_type": "code",
   "execution_count": 1,
   "metadata": {},
   "outputs": [],
   "source": [
    "import pandas as pd\n",
    "import numpy as np\n",
    "import matplotlib.pyplot as plt\n",
    "import scipy.stats"
   ]
  },
  {
   "attachments": {},
   "cell_type": "markdown",
   "metadata": {},
   "source": [
    "### Match Score Main Effect"
   ]
  },
  {
   "cell_type": "code",
   "execution_count": 3,
   "metadata": {},
   "outputs": [],
   "source": [
    "df_1 = pd.read_csv('data/match_1.csv')\n",
    "df_2 = pd.read_csv('data/match_2.csv')\n",
    "df_3 = pd.read_csv('data/match_3.csv')"
   ]
  },
  {
   "cell_type": "code",
   "execution_count": 4,
   "metadata": {},
   "outputs": [],
   "source": [
    "df = pd.concat([df_1, df_2, df_3], sort=False)"
   ]
  },
  {
   "cell_type": "code",
   "execution_count": 5,
   "metadata": {},
   "outputs": [
    {
     "data": {
      "text/html": [
       "<div>\n",
       "<style scoped>\n",
       "    .dataframe tbody tr th:only-of-type {\n",
       "        vertical-align: middle;\n",
       "    }\n",
       "\n",
       "    .dataframe tbody tr th {\n",
       "        vertical-align: top;\n",
       "    }\n",
       "\n",
       "    .dataframe thead th {\n",
       "        text-align: right;\n",
       "    }\n",
       "</style>\n",
       "<table border=\"1\" class=\"dataframe\">\n",
       "  <thead>\n",
       "    <tr style=\"text-align: right;\">\n",
       "      <th></th>\n",
       "      <th></th>\n",
       "      <th></th>\n",
       "      <th></th>\n",
       "      <th>Browse.Time</th>\n",
       "    </tr>\n",
       "    <tr>\n",
       "      <th>Prev.Length</th>\n",
       "      <th>Match.Score</th>\n",
       "      <th>Tile.Size</th>\n",
       "      <th>Prev.Type</th>\n",
       "      <th></th>\n",
       "    </tr>\n",
       "  </thead>\n",
       "  <tbody>\n",
       "    <tr>\n",
       "      <th rowspan=\"21\" valign=\"top\">75</th>\n",
       "      <th>0</th>\n",
       "      <th>0.2</th>\n",
       "      <th>TT</th>\n",
       "      <td>22.068223</td>\n",
       "    </tr>\n",
       "    <tr>\n",
       "      <th>5</th>\n",
       "      <th>0.2</th>\n",
       "      <th>TT</th>\n",
       "      <td>22.006588</td>\n",
       "    </tr>\n",
       "    <tr>\n",
       "      <th>10</th>\n",
       "      <th>0.2</th>\n",
       "      <th>TT</th>\n",
       "      <td>21.844023</td>\n",
       "    </tr>\n",
       "    <tr>\n",
       "      <th>15</th>\n",
       "      <th>0.2</th>\n",
       "      <th>TT</th>\n",
       "      <td>21.658570</td>\n",
       "    </tr>\n",
       "    <tr>\n",
       "      <th>20</th>\n",
       "      <th>0.2</th>\n",
       "      <th>TT</th>\n",
       "      <td>21.297935</td>\n",
       "    </tr>\n",
       "    <tr>\n",
       "      <th>25</th>\n",
       "      <th>0.2</th>\n",
       "      <th>TT</th>\n",
       "      <td>20.698103</td>\n",
       "    </tr>\n",
       "    <tr>\n",
       "      <th>30</th>\n",
       "      <th>0.2</th>\n",
       "      <th>TT</th>\n",
       "      <td>20.331226</td>\n",
       "    </tr>\n",
       "    <tr>\n",
       "      <th>35</th>\n",
       "      <th>0.2</th>\n",
       "      <th>TT</th>\n",
       "      <td>19.558566</td>\n",
       "    </tr>\n",
       "    <tr>\n",
       "      <th>40</th>\n",
       "      <th>0.2</th>\n",
       "      <th>TT</th>\n",
       "      <td>19.158858</td>\n",
       "    </tr>\n",
       "    <tr>\n",
       "      <th>45</th>\n",
       "      <th>0.2</th>\n",
       "      <th>TT</th>\n",
       "      <td>18.377589</td>\n",
       "    </tr>\n",
       "    <tr>\n",
       "      <th>50</th>\n",
       "      <th>0.2</th>\n",
       "      <th>TT</th>\n",
       "      <td>17.713478</td>\n",
       "    </tr>\n",
       "    <tr>\n",
       "      <th>55</th>\n",
       "      <th>0.2</th>\n",
       "      <th>TT</th>\n",
       "      <td>17.293032</td>\n",
       "    </tr>\n",
       "    <tr>\n",
       "      <th>60</th>\n",
       "      <th>0.2</th>\n",
       "      <th>TT</th>\n",
       "      <td>16.415163</td>\n",
       "    </tr>\n",
       "    <tr>\n",
       "      <th>65</th>\n",
       "      <th>0.2</th>\n",
       "      <th>TT</th>\n",
       "      <td>15.816042</td>\n",
       "    </tr>\n",
       "    <tr>\n",
       "      <th>70</th>\n",
       "      <th>0.2</th>\n",
       "      <th>TT</th>\n",
       "      <td>15.504354</td>\n",
       "    </tr>\n",
       "    <tr>\n",
       "      <th>75</th>\n",
       "      <th>0.2</th>\n",
       "      <th>TT</th>\n",
       "      <td>15.111879</td>\n",
       "    </tr>\n",
       "    <tr>\n",
       "      <th>80</th>\n",
       "      <th>0.2</th>\n",
       "      <th>TT</th>\n",
       "      <td>14.806714</td>\n",
       "    </tr>\n",
       "    <tr>\n",
       "      <th>85</th>\n",
       "      <th>0.2</th>\n",
       "      <th>TT</th>\n",
       "      <td>14.945541</td>\n",
       "    </tr>\n",
       "    <tr>\n",
       "      <th>90</th>\n",
       "      <th>0.2</th>\n",
       "      <th>TT</th>\n",
       "      <td>16.065800</td>\n",
       "    </tr>\n",
       "    <tr>\n",
       "      <th>95</th>\n",
       "      <th>0.2</th>\n",
       "      <th>TT</th>\n",
       "      <td>16.968309</td>\n",
       "    </tr>\n",
       "    <tr>\n",
       "      <th>100</th>\n",
       "      <th>0.2</th>\n",
       "      <th>TT</th>\n",
       "      <td>18.375936</td>\n",
       "    </tr>\n",
       "  </tbody>\n",
       "</table>\n",
       "</div>"
      ],
      "text/plain": [
       "                                             Browse.Time\n",
       "Prev.Length Match.Score Tile.Size Prev.Type             \n",
       "75          0           0.2       TT           22.068223\n",
       "            5           0.2       TT           22.006588\n",
       "            10          0.2       TT           21.844023\n",
       "            15          0.2       TT           21.658570\n",
       "            20          0.2       TT           21.297935\n",
       "            25          0.2       TT           20.698103\n",
       "            30          0.2       TT           20.331226\n",
       "            35          0.2       TT           19.558566\n",
       "            40          0.2       TT           19.158858\n",
       "            45          0.2       TT           18.377589\n",
       "            50          0.2       TT           17.713478\n",
       "            55          0.2       TT           17.293032\n",
       "            60          0.2       TT           16.415163\n",
       "            65          0.2       TT           15.816042\n",
       "            70          0.2       TT           15.504354\n",
       "            75          0.2       TT           15.111879\n",
       "            80          0.2       TT           14.806714\n",
       "            85          0.2       TT           14.945541\n",
       "            90          0.2       TT           16.065800\n",
       "            95          0.2       TT           16.968309\n",
       "            100         0.2       TT           18.375936"
      ]
     },
     "execution_count": 5,
     "metadata": {},
     "output_type": "execute_result"
    }
   ],
   "source": [
    "grouped_df = df.groupby(['Prev.Length', 'Match.Score', 'Tile.Size', 'Prev.Type']).mean()\n",
    "grouped_df"
   ]
  },
  {
   "cell_type": "code",
   "execution_count": 6,
   "metadata": {},
   "outputs": [
    {
     "data": {
      "text/plain": [
       "array([22.06822275, 22.00658845, 21.84402336, 21.65857045, 21.2979353 ,\n",
       "       20.69810293, 20.33122613, 19.55856565, 19.15885809, 18.37758887,\n",
       "       17.71347763, 17.29303177, 16.4151625 , 15.81604238, 15.50435373,\n",
       "       15.11187925, 14.80671389, 14.9455414 , 16.06580045, 16.96830892,\n",
       "       18.37593631])"
      ]
     },
     "execution_count": 6,
     "metadata": {},
     "output_type": "execute_result"
    }
   ],
   "source": [
    "np.array(grouped_df['Browse.Time'])"
   ]
  },
  {
   "cell_type": "code",
   "execution_count": 7,
   "metadata": {},
   "outputs": [],
   "source": [
    "idx = grouped_df.index\n"
   ]
  },
  {
   "cell_type": "code",
   "execution_count": 8,
   "metadata": {},
   "outputs": [
    {
     "data": {
      "image/png": "[encoded data removed]",
      "text/plain": [
       "<Figure size 1000x700 with 1 Axes>"
      ]
     },
     "metadata": {},
     "output_type": "display_data"
    }
   ],
   "source": [
    "fig, ax = plt.subplots(figsize=(10,7))\n",
    "ax.plot(idx.get_level_values(1), np.array(grouped_df['Browse.Time']), marker='o')\n",
    "\n",
    "ax.set_xticks(np.arange(0,105,5))\n",
    "ax.set_xlabel('Match Score')\n",
    "ax.set_ylabel('Average Browsing Time')\n",
    "plt.show()"
   ]
  },
  {
   "attachments": {},
   "cell_type": "markdown",
   "metadata": {},
   "source": [
    "Using default values, Match score of 80 seems to get the least average browsing time."
   ]
  },
  {
   "cell_type": "markdown",
   "metadata": {},
   "source": [
    "### Phase 1"
   ]
  },
  {
   "cell_type": "code",
   "execution_count": 9,
   "metadata": {},
   "outputs": [],
   "source": [
    "corners_4 = pd.read_csv('data/4_corners.csv')"
   ]
  },
  {
   "cell_type": "code",
   "execution_count": 10,
   "metadata": {},
   "outputs": [
    {
     "data": {
      "text/html": [
       "<div>\n",
       "<style scoped>\n",
       "    .dataframe tbody tr th:only-of-type {\n",
       "        vertical-align: middle;\n",
       "    }\n",
       "\n",
       "    .dataframe tbody tr th {\n",
       "        vertical-align: top;\n",
       "    }\n",
       "\n",
       "    .dataframe thead th {\n",
       "        text-align: right;\n",
       "    }\n",
       "</style>\n",
       "<table border=\"1\" class=\"dataframe\">\n",
       "  <thead>\n",
       "    <tr style=\"text-align: right;\">\n",
       "      <th></th>\n",
       "      <th>Prev.Length</th>\n",
       "      <th>Match.Score</th>\n",
       "      <th>Tile.Size</th>\n",
       "      <th>Browse.Time</th>\n",
       "    </tr>\n",
       "    <tr>\n",
       "      <th>Prev.Type</th>\n",
       "      <th></th>\n",
       "      <th></th>\n",
       "      <th></th>\n",
       "      <th></th>\n",
       "    </tr>\n",
       "  </thead>\n",
       "  <tbody>\n",
       "    <tr>\n",
       "      <th>AC</th>\n",
       "      <td>75.0</td>\n",
       "      <td>50.0</td>\n",
       "      <td>0.3</td>\n",
       "      <td>23.282988</td>\n",
       "    </tr>\n",
       "    <tr>\n",
       "      <th>TT</th>\n",
       "      <td>75.0</td>\n",
       "      <td>50.0</td>\n",
       "      <td>0.3</td>\n",
       "      <td>18.211627</td>\n",
       "    </tr>\n",
       "  </tbody>\n",
       "</table>\n",
       "</div>"
      ],
      "text/plain": [
       "           Prev.Length  Match.Score  Tile.Size  Browse.Time\n",
       "Prev.Type                                                  \n",
       "AC                75.0         50.0        0.3    23.282988\n",
       "TT                75.0         50.0        0.3    18.211627"
      ]
     },
     "execution_count": 10,
     "metadata": {},
     "output_type": "execute_result"
    }
   ],
   "source": [
    "grouped_df = corners_4.groupby(['Prev.Type']).mean()\n",
    "grouped_df"
   ]
  },
  {
   "cell_type": "markdown",
   "metadata": {},
   "source": [
    "### Phase 2"
   ]
  },
  {
   "cell_type": "code",
   "execution_count": 12,
   "metadata": {},
   "outputs": [],
   "source": [
    "phase_2 = pd.read_csv('data/phase_2.csv')"
   ]
  },
  {
   "cell_type": "code",
   "execution_count": 13,
   "metadata": {},
   "outputs": [
    {
     "name": "stderr",
     "output_type": "stream",
     "text": [
      "/var/folders/rp/w4jh5qxd1gd5qhqv_rsk4syw0000gn/T/ipykernel_40311/495533399.py:1: FutureWarning: The default value of numeric_only in DataFrameGroupBy.mean is deprecated. In a future version, numeric_only will default to False. Either specify numeric_only or select only columns which should be valid for the function.\n",
      "  grouped_df = phase_2.groupby(['Prev.Length', 'Match.Score']).mean()\n"
     ]
    },
    {
     "data": {
      "text/html": [
       "<div>\n",
       "<style scoped>\n",
       "    .dataframe tbody tr th:only-of-type {\n",
       "        vertical-align: middle;\n",
       "    }\n",
       "\n",
       "    .dataframe tbody tr th {\n",
       "        vertical-align: top;\n",
       "    }\n",
       "\n",
       "    .dataframe thead th {\n",
       "        text-align: right;\n",
       "    }\n",
       "</style>\n",
       "<table border=\"1\" class=\"dataframe\">\n",
       "  <thead>\n",
       "    <tr style=\"text-align: right;\">\n",
       "      <th></th>\n",
       "      <th></th>\n",
       "      <th>Tile.Size</th>\n",
       "      <th>Browse.Time</th>\n",
       "    </tr>\n",
       "    <tr>\n",
       "      <th>Prev.Length</th>\n",
       "      <th>Match.Score</th>\n",
       "      <th></th>\n",
       "      <th></th>\n",
       "    </tr>\n",
       "  </thead>\n",
       "  <tbody>\n",
       "    <tr>\n",
       "      <th rowspan=\"4\" valign=\"top\">48</th>\n",
       "      <th>20</th>\n",
       "      <td>0.3</td>\n",
       "      <td>21.374313</td>\n",
       "    </tr>\n",
       "    <tr>\n",
       "      <th>40</th>\n",
       "      <td>0.3</td>\n",
       "      <td>19.561336</td>\n",
       "    </tr>\n",
       "    <tr>\n",
       "      <th>60</th>\n",
       "      <td>0.3</td>\n",
       "      <td>17.156449</td>\n",
       "    </tr>\n",
       "    <tr>\n",
       "      <th>80</th>\n",
       "      <td>0.3</td>\n",
       "      <td>15.401658</td>\n",
       "    </tr>\n",
       "    <tr>\n",
       "      <th rowspan=\"4\" valign=\"top\">66</th>\n",
       "      <th>20</th>\n",
       "      <td>0.3</td>\n",
       "      <td>21.261186</td>\n",
       "    </tr>\n",
       "    <tr>\n",
       "      <th>40</th>\n",
       "      <td>0.3</td>\n",
       "      <td>18.148825</td>\n",
       "    </tr>\n",
       "    <tr>\n",
       "      <th>60</th>\n",
       "      <td>0.3</td>\n",
       "      <td>15.778925</td>\n",
       "    </tr>\n",
       "    <tr>\n",
       "      <th>80</th>\n",
       "      <td>0.3</td>\n",
       "      <td>14.395078</td>\n",
       "    </tr>\n",
       "    <tr>\n",
       "      <th rowspan=\"4\" valign=\"top\">84</th>\n",
       "      <th>20</th>\n",
       "      <td>0.3</td>\n",
       "      <td>21.666299</td>\n",
       "    </tr>\n",
       "    <tr>\n",
       "      <th>40</th>\n",
       "      <td>0.3</td>\n",
       "      <td>19.857034</td>\n",
       "    </tr>\n",
       "    <tr>\n",
       "      <th>60</th>\n",
       "      <td>0.3</td>\n",
       "      <td>18.258148</td>\n",
       "    </tr>\n",
       "    <tr>\n",
       "      <th>80</th>\n",
       "      <td>0.3</td>\n",
       "      <td>15.923447</td>\n",
       "    </tr>\n",
       "    <tr>\n",
       "      <th rowspan=\"4\" valign=\"top\">102</th>\n",
       "      <th>20</th>\n",
       "      <td>0.3</td>\n",
       "      <td>21.943616</td>\n",
       "    </tr>\n",
       "    <tr>\n",
       "      <th>40</th>\n",
       "      <td>0.3</td>\n",
       "      <td>21.652590</td>\n",
       "    </tr>\n",
       "    <tr>\n",
       "      <th>60</th>\n",
       "      <td>0.3</td>\n",
       "      <td>20.727187</td>\n",
       "    </tr>\n",
       "    <tr>\n",
       "      <th>80</th>\n",
       "      <td>0.3</td>\n",
       "      <td>18.504981</td>\n",
       "    </tr>\n",
       "  </tbody>\n",
       "</table>\n",
       "</div>"
      ],
      "text/plain": [
       "                         Tile.Size  Browse.Time\n",
       "Prev.Length Match.Score                        \n",
       "48          20                 0.3    21.374313\n",
       "            40                 0.3    19.561336\n",
       "            60                 0.3    17.156449\n",
       "            80                 0.3    15.401658\n",
       "66          20                 0.3    21.261186\n",
       "            40                 0.3    18.148825\n",
       "            60                 0.3    15.778925\n",
       "            80                 0.3    14.395078\n",
       "84          20                 0.3    21.666299\n",
       "            40                 0.3    19.857034\n",
       "            60                 0.3    18.258148\n",
       "            80                 0.3    15.923447\n",
       "102         20                 0.3    21.943616\n",
       "            40                 0.3    21.652590\n",
       "            60                 0.3    20.727187\n",
       "            80                 0.3    18.504981"
      ]
     },
     "execution_count": 13,
     "metadata": {},
     "output_type": "execute_result"
    }
   ],
   "source": [
    "grouped_df = phase_2.groupby(['Prev.Length', 'Match.Score']).mean()\n",
    "grouped_df"
   ]
  },
  {
   "attachments": {},
   "cell_type": "markdown",
   "metadata": {},
   "source": [
    "Prev.length = 66, Match.Score = 80\n"
   ]
  },
  {
   "attachments": {},
   "cell_type": "markdown",
   "metadata": {},
   "source": [
    "### Phase 3"
   ]
  },
  {
   "cell_type": "code",
   "execution_count": 16,
   "metadata": {},
   "outputs": [],
   "source": [
    "phase_3 = pd.read_csv('data/phase_3.csv')"
   ]
  },
  {
   "cell_type": "code",
   "execution_count": 17,
   "metadata": {},
   "outputs": [
    {
     "name": "stderr",
     "output_type": "stream",
     "text": [
      "/var/folders/rp/w4jh5qxd1gd5qhqv_rsk4syw0000gn/T/ipykernel_40311/1238557850.py:1: FutureWarning: The default value of numeric_only in DataFrameGroupBy.mean is deprecated. In a future version, numeric_only will default to False. Either specify numeric_only or select only columns which should be valid for the function.\n",
      "  grouped_df = phase_3.groupby(['Prev.Length', 'Match.Score']).mean()\n"
     ]
    },
    {
     "data": {
      "text/html": [
       "<div>\n",
       "<style scoped>\n",
       "    .dataframe tbody tr th:only-of-type {\n",
       "        vertical-align: middle;\n",
       "    }\n",
       "\n",
       "    .dataframe tbody tr th {\n",
       "        vertical-align: top;\n",
       "    }\n",
       "\n",
       "    .dataframe thead th {\n",
       "        text-align: right;\n",
       "    }\n",
       "</style>\n",
       "<table border=\"1\" class=\"dataframe\">\n",
       "  <thead>\n",
       "    <tr style=\"text-align: right;\">\n",
       "      <th></th>\n",
       "      <th></th>\n",
       "      <th>Tile.Size</th>\n",
       "      <th>Browse.Time</th>\n",
       "    </tr>\n",
       "    <tr>\n",
       "      <th>Prev.Length</th>\n",
       "      <th>Match.Score</th>\n",
       "      <th></th>\n",
       "      <th></th>\n",
       "    </tr>\n",
       "  </thead>\n",
       "  <tbody>\n",
       "    <tr>\n",
       "      <th rowspan=\"3\" valign=\"top\">57</th>\n",
       "      <th>70</th>\n",
       "      <td>0.3</td>\n",
       "      <td>14.992953</td>\n",
       "    </tr>\n",
       "    <tr>\n",
       "      <th>80</th>\n",
       "      <td>0.3</td>\n",
       "      <td>14.529581</td>\n",
       "    </tr>\n",
       "    <tr>\n",
       "      <th>90</th>\n",
       "      <td>0.3</td>\n",
       "      <td>15.804293</td>\n",
       "    </tr>\n",
       "    <tr>\n",
       "      <th rowspan=\"2\" valign=\"top\">66</th>\n",
       "      <th>70</th>\n",
       "      <td>0.3</td>\n",
       "      <td>13.978997</td>\n",
       "    </tr>\n",
       "    <tr>\n",
       "      <th>90</th>\n",
       "      <td>0.3</td>\n",
       "      <td>15.535871</td>\n",
       "    </tr>\n",
       "    <tr>\n",
       "      <th rowspan=\"3\" valign=\"top\">75</th>\n",
       "      <th>70</th>\n",
       "      <td>0.3</td>\n",
       "      <td>15.636757</td>\n",
       "    </tr>\n",
       "    <tr>\n",
       "      <th>80</th>\n",
       "      <td>0.3</td>\n",
       "      <td>14.909056</td>\n",
       "    </tr>\n",
       "    <tr>\n",
       "      <th>90</th>\n",
       "      <td>0.3</td>\n",
       "      <td>15.783476</td>\n",
       "    </tr>\n",
       "  </tbody>\n",
       "</table>\n",
       "</div>"
      ],
      "text/plain": [
       "                         Tile.Size  Browse.Time\n",
       "Prev.Length Match.Score                        \n",
       "57          70                 0.3    14.992953\n",
       "            80                 0.3    14.529581\n",
       "            90                 0.3    15.804293\n",
       "66          70                 0.3    13.978997\n",
       "            90                 0.3    15.535871\n",
       "75          70                 0.3    15.636757\n",
       "            80                 0.3    14.909056\n",
       "            90                 0.3    15.783476"
      ]
     },
     "execution_count": 17,
     "metadata": {},
     "output_type": "execute_result"
    }
   ],
   "source": [
    "grouped_df = phase_3.groupby(['Prev.Length', 'Match.Score']).mean()\n",
    "grouped_df"
   ]
  },
  {
   "attachments": {},
   "cell_type": "markdown",
   "metadata": {},
   "source": [
    "Prev.length = 66, Match.Score = 70\n"
   ]
  },
  {
   "cell_type": "markdown",
   "metadata": {},
   "source": [
    "### Phase 4"
   ]
  },
  {
   "cell_type": "code",
   "execution_count": 18,
   "metadata": {},
   "outputs": [
    {
     "name": "stderr",
     "output_type": "stream",
     "text": [
      "/var/folders/rp/w4jh5qxd1gd5qhqv_rsk4syw0000gn/T/ipykernel_40311/3690126699.py:2: FutureWarning: The default value of numeric_only in DataFrameGroupBy.mean is deprecated. In a future version, numeric_only will default to False. Either specify numeric_only or select only columns which should be valid for the function.\n",
      "  grouped_df = phase_4.groupby(['Prev.Length', 'Match.Score']).mean()\n"
     ]
    },
    {
     "data": {
      "text/html": [
       "<div>\n",
       "<style scoped>\n",
       "    .dataframe tbody tr th:only-of-type {\n",
       "        vertical-align: middle;\n",
       "    }\n",
       "\n",
       "    .dataframe tbody tr th {\n",
       "        vertical-align: top;\n",
       "    }\n",
       "\n",
       "    .dataframe thead th {\n",
       "        text-align: right;\n",
       "    }\n",
       "</style>\n",
       "<table border=\"1\" class=\"dataframe\">\n",
       "  <thead>\n",
       "    <tr style=\"text-align: right;\">\n",
       "      <th></th>\n",
       "      <th></th>\n",
       "      <th>Tile.Size</th>\n",
       "      <th>Browse.Time</th>\n",
       "    </tr>\n",
       "    <tr>\n",
       "      <th>Prev.Length</th>\n",
       "      <th>Match.Score</th>\n",
       "      <th></th>\n",
       "      <th></th>\n",
       "    </tr>\n",
       "  </thead>\n",
       "  <tbody>\n",
       "    <tr>\n",
       "      <th rowspan=\"2\" valign=\"top\">62</th>\n",
       "      <th>65</th>\n",
       "      <td>0.3</td>\n",
       "      <td>14.561012</td>\n",
       "    </tr>\n",
       "    <tr>\n",
       "      <th>70</th>\n",
       "      <td>0.3</td>\n",
       "      <td>14.307862</td>\n",
       "    </tr>\n",
       "    <tr>\n",
       "      <th rowspan=\"2\" valign=\"top\">66</th>\n",
       "      <th>65</th>\n",
       "      <td>0.3</td>\n",
       "      <td>14.585594</td>\n",
       "    </tr>\n",
       "    <tr>\n",
       "      <th>75</th>\n",
       "      <td>0.3</td>\n",
       "      <td>14.082922</td>\n",
       "    </tr>\n",
       "    <tr>\n",
       "      <th rowspan=\"2\" valign=\"top\">70</th>\n",
       "      <th>70</th>\n",
       "      <td>0.3</td>\n",
       "      <td>14.408080</td>\n",
       "    </tr>\n",
       "    <tr>\n",
       "      <th>75</th>\n",
       "      <td>0.3</td>\n",
       "      <td>14.295893</td>\n",
       "    </tr>\n",
       "  </tbody>\n",
       "</table>\n",
       "</div>"
      ],
      "text/plain": [
       "                         Tile.Size  Browse.Time\n",
       "Prev.Length Match.Score                        \n",
       "62          65                 0.3    14.561012\n",
       "            70                 0.3    14.307862\n",
       "66          65                 0.3    14.585594\n",
       "            75                 0.3    14.082922\n",
       "70          70                 0.3    14.408080\n",
       "            75                 0.3    14.295893"
      ]
     },
     "execution_count": 18,
     "metadata": {},
     "output_type": "execute_result"
    }
   ],
   "source": [
    "phase_4 = pd.read_csv('data/phase_4.csv')\n",
    "grouped_df = phase_4.groupby(['Prev.Length', 'Match.Score']).mean()\n",
    "grouped_df"
   ]
  },
  {
   "attachments": {},
   "cell_type": "markdown",
   "metadata": {},
   "source": [
    "### Phase 5"
   ]
  },
  {
   "cell_type": "code",
   "execution_count": 19,
   "metadata": {},
   "outputs": [
    {
     "name": "stderr",
     "output_type": "stream",
     "text": [
      "/var/folders/rp/w4jh5qxd1gd5qhqv_rsk4syw0000gn/T/ipykernel_40311/1707613720.py:2: FutureWarning: The default value of numeric_only in DataFrameGroupBy.mean is deprecated. In a future version, numeric_only will default to False. Either specify numeric_only or select only columns which should be valid for the function.\n",
      "  grouped_df = phase_5.groupby(['Prev.Length', 'Match.Score']).mean()\n"
     ]
    },
    {
     "data": {
      "text/html": [
       "<div>\n",
       "<style scoped>\n",
       "    .dataframe tbody tr th:only-of-type {\n",
       "        vertical-align: middle;\n",
       "    }\n",
       "\n",
       "    .dataframe tbody tr th {\n",
       "        vertical-align: top;\n",
       "    }\n",
       "\n",
       "    .dataframe thead th {\n",
       "        text-align: right;\n",
       "    }\n",
       "</style>\n",
       "<table border=\"1\" class=\"dataframe\">\n",
       "  <thead>\n",
       "    <tr style=\"text-align: right;\">\n",
       "      <th></th>\n",
       "      <th></th>\n",
       "      <th>Tile.Size</th>\n",
       "      <th>Browse.Time</th>\n",
       "    </tr>\n",
       "    <tr>\n",
       "      <th>Prev.Length</th>\n",
       "      <th>Match.Score</th>\n",
       "      <th></th>\n",
       "      <th></th>\n",
       "    </tr>\n",
       "  </thead>\n",
       "  <tbody>\n",
       "    <tr>\n",
       "      <th rowspan=\"3\" valign=\"top\">64</th>\n",
       "      <th>73</th>\n",
       "      <td>0.3</td>\n",
       "      <td>14.128273</td>\n",
       "    </tr>\n",
       "    <tr>\n",
       "      <th>75</th>\n",
       "      <td>0.3</td>\n",
       "      <td>14.109069</td>\n",
       "    </tr>\n",
       "    <tr>\n",
       "      <th>77</th>\n",
       "      <td>0.3</td>\n",
       "      <td>14.158172</td>\n",
       "    </tr>\n",
       "    <tr>\n",
       "      <th rowspan=\"3\" valign=\"top\">66</th>\n",
       "      <th>73</th>\n",
       "      <td>0.3</td>\n",
       "      <td>13.968790</td>\n",
       "    </tr>\n",
       "    <tr>\n",
       "      <th>75</th>\n",
       "      <td>0.3</td>\n",
       "      <td>14.111451</td>\n",
       "    </tr>\n",
       "    <tr>\n",
       "      <th>77</th>\n",
       "      <td>0.3</td>\n",
       "      <td>14.032637</td>\n",
       "    </tr>\n",
       "    <tr>\n",
       "      <th rowspan=\"3\" valign=\"top\">68</th>\n",
       "      <th>73</th>\n",
       "      <td>0.3</td>\n",
       "      <td>14.016559</td>\n",
       "    </tr>\n",
       "    <tr>\n",
       "      <th>75</th>\n",
       "      <td>0.3</td>\n",
       "      <td>14.230667</td>\n",
       "    </tr>\n",
       "    <tr>\n",
       "      <th>77</th>\n",
       "      <td>0.3</td>\n",
       "      <td>14.293954</td>\n",
       "    </tr>\n",
       "  </tbody>\n",
       "</table>\n",
       "</div>"
      ],
      "text/plain": [
       "                         Tile.Size  Browse.Time\n",
       "Prev.Length Match.Score                        \n",
       "64          73                 0.3    14.128273\n",
       "            75                 0.3    14.109069\n",
       "            77                 0.3    14.158172\n",
       "66          73                 0.3    13.968790\n",
       "            75                 0.3    14.111451\n",
       "            77                 0.3    14.032637\n",
       "68          73                 0.3    14.016559\n",
       "            75                 0.3    14.230667\n",
       "            77                 0.3    14.293954"
      ]
     },
     "execution_count": 19,
     "metadata": {},
     "output_type": "execute_result"
    }
   ],
   "source": [
    "phase_5 = pd.read_csv('data/phase_5.csv')\n",
    "grouped_df = phase_5.groupby(['Prev.Length', 'Match.Score']).mean()\n",
    "grouped_df"
   ]
  },
  {
   "cell_type": "markdown",
   "metadata": {},
   "source": [
    "\n",
    "### Tile size test"
   ]
  },
  {
   "cell_type": "code",
   "execution_count": 21,
   "metadata": {},
   "outputs": [
    {
     "name": "stderr",
     "output_type": "stream",
     "text": [
      "/var/folders/rp/w4jh5qxd1gd5qhqv_rsk4syw0000gn/T/ipykernel_40311/446464880.py:2: FutureWarning: The default value of numeric_only in DataFrameGroupBy.mean is deprecated. In a future version, numeric_only will default to False. Either specify numeric_only or select only columns which should be valid for the function.\n",
      "  grouped_df = tile_df.groupby(['Tile.Size']).mean()\n"
     ]
    },
    {
     "data": {
      "text/html": [
       "<div>\n",
       "<style scoped>\n",
       "    .dataframe tbody tr th:only-of-type {\n",
       "        vertical-align: middle;\n",
       "    }\n",
       "\n",
       "    .dataframe tbody tr th {\n",
       "        vertical-align: top;\n",
       "    }\n",
       "\n",
       "    .dataframe thead th {\n",
       "        text-align: right;\n",
       "    }\n",
       "</style>\n",
       "<table border=\"1\" class=\"dataframe\">\n",
       "  <thead>\n",
       "    <tr style=\"text-align: right;\">\n",
       "      <th></th>\n",
       "      <th>Prev.Length</th>\n",
       "      <th>Match.Score</th>\n",
       "      <th>Browse.Time</th>\n",
       "    </tr>\n",
       "    <tr>\n",
       "      <th>Tile.Size</th>\n",
       "      <th></th>\n",
       "      <th></th>\n",
       "      <th></th>\n",
       "    </tr>\n",
       "  </thead>\n",
       "  <tbody>\n",
       "    <tr>\n",
       "      <th>0.1</th>\n",
       "      <td>66.0</td>\n",
       "      <td>75.0</td>\n",
       "      <td>14.028755</td>\n",
       "    </tr>\n",
       "    <tr>\n",
       "      <th>0.2</th>\n",
       "      <td>66.0</td>\n",
       "      <td>75.0</td>\n",
       "      <td>13.938495</td>\n",
       "    </tr>\n",
       "    <tr>\n",
       "      <th>0.3</th>\n",
       "      <td>66.0</td>\n",
       "      <td>75.0</td>\n",
       "      <td>14.119566</td>\n",
       "    </tr>\n",
       "    <tr>\n",
       "      <th>0.4</th>\n",
       "      <td>66.0</td>\n",
       "      <td>75.0</td>\n",
       "      <td>13.902695</td>\n",
       "    </tr>\n",
       "    <tr>\n",
       "      <th>0.5</th>\n",
       "      <td>66.0</td>\n",
       "      <td>75.0</td>\n",
       "      <td>14.117081</td>\n",
       "    </tr>\n",
       "  </tbody>\n",
       "</table>\n",
       "</div>"
      ],
      "text/plain": [
       "           Prev.Length  Match.Score  Browse.Time\n",
       "Tile.Size                                       \n",
       "0.1               66.0         75.0    14.028755\n",
       "0.2               66.0         75.0    13.938495\n",
       "0.3               66.0         75.0    14.119566\n",
       "0.4               66.0         75.0    13.902695\n",
       "0.5               66.0         75.0    14.117081"
      ]
     },
     "execution_count": 21,
     "metadata": {},
     "output_type": "execute_result"
    }
   ],
   "source": [
    "tile_df = pd.read_csv('data/tile_size.csv')\n",
    "grouped_df = tile_df.groupby(['Tile.Size']).mean()\n",
    "grouped_df"
   ]
  },
  {
   "cell_type": "code",
   "execution_count": 22,
   "metadata": {},
   "outputs": [
    {
     "data": {
      "image/png": "[encoded data removed]",
      "text/plain": [
       "<Figure size 1000x700 with 1 Axes>"
      ]
     },
     "metadata": {},
     "output_type": "display_data"
    }
   ],
   "source": [
    "fig, ax = plt.subplots(figsize=(10,7))\n",
    "ax.plot(grouped_df.index, np.array(grouped_df['Browse.Time']), marker='o')\n",
    "\n",
    "ax.set_xlabel('Tile.Size')\n",
    "ax.set_ylabel('Average Browsing Time')\n",
    "plt.show()"
   ]
  },
  {
   "cell_type": "markdown",
   "metadata": {},
   "source": [
    "### Actual Data"
   ]
  },
  {
   "cell_type": "code",
   "execution_count": 23,
   "metadata": {},
   "outputs": [
    {
     "data": {
      "text/html": [
       "<div>\n",
       "<style scoped>\n",
       "    .dataframe tbody tr th:only-of-type {\n",
       "        vertical-align: middle;\n",
       "    }\n",
       "\n",
       "    .dataframe tbody tr th {\n",
       "        vertical-align: top;\n",
       "    }\n",
       "\n",
       "    .dataframe thead th {\n",
       "        text-align: right;\n",
       "    }\n",
       "</style>\n",
       "<table border=\"1\" class=\"dataframe\">\n",
       "  <thead>\n",
       "    <tr style=\"text-align: right;\">\n",
       "      <th></th>\n",
       "      <th>Prev.Length</th>\n",
       "      <th>Match.Score</th>\n",
       "      <th>Tile.Size</th>\n",
       "      <th>Prev.Type</th>\n",
       "      <th>Browse.Time</th>\n",
       "    </tr>\n",
       "  </thead>\n",
       "  <tbody>\n",
       "    <tr>\n",
       "      <th>0</th>\n",
       "      <td>75</td>\n",
       "      <td>75</td>\n",
       "      <td>0.1</td>\n",
       "      <td>TT</td>\n",
       "      <td>9.059162</td>\n",
       "    </tr>\n",
       "    <tr>\n",
       "      <th>1</th>\n",
       "      <td>75</td>\n",
       "      <td>75</td>\n",
       "      <td>0.2</td>\n",
       "      <td>TT</td>\n",
       "      <td>8.576086</td>\n",
       "    </tr>\n",
       "    <tr>\n",
       "      <th>2</th>\n",
       "      <td>75</td>\n",
       "      <td>75</td>\n",
       "      <td>0.4</td>\n",
       "      <td>TT</td>\n",
       "      <td>11.160144</td>\n",
       "    </tr>\n",
       "    <tr>\n",
       "      <th>3</th>\n",
       "      <td>75</td>\n",
       "      <td>75</td>\n",
       "      <td>0.5</td>\n",
       "      <td>TT</td>\n",
       "      <td>9.884818</td>\n",
       "    </tr>\n",
       "    <tr>\n",
       "      <th>4</th>\n",
       "      <td>75</td>\n",
       "      <td>75</td>\n",
       "      <td>0.1</td>\n",
       "      <td>TT</td>\n",
       "      <td>10.093272</td>\n",
       "    </tr>\n",
       "    <tr>\n",
       "      <th>...</th>\n",
       "      <td>...</td>\n",
       "      <td>...</td>\n",
       "      <td>...</td>\n",
       "      <td>...</td>\n",
       "      <td>...</td>\n",
       "    </tr>\n",
       "    <tr>\n",
       "      <th>395</th>\n",
       "      <td>75</td>\n",
       "      <td>75</td>\n",
       "      <td>0.5</td>\n",
       "      <td>TT</td>\n",
       "      <td>9.200644</td>\n",
       "    </tr>\n",
       "    <tr>\n",
       "      <th>396</th>\n",
       "      <td>75</td>\n",
       "      <td>75</td>\n",
       "      <td>0.1</td>\n",
       "      <td>TT</td>\n",
       "      <td>7.950332</td>\n",
       "    </tr>\n",
       "    <tr>\n",
       "      <th>397</th>\n",
       "      <td>75</td>\n",
       "      <td>75</td>\n",
       "      <td>0.2</td>\n",
       "      <td>TT</td>\n",
       "      <td>11.449020</td>\n",
       "    </tr>\n",
       "    <tr>\n",
       "      <th>398</th>\n",
       "      <td>75</td>\n",
       "      <td>75</td>\n",
       "      <td>0.4</td>\n",
       "      <td>TT</td>\n",
       "      <td>9.092768</td>\n",
       "    </tr>\n",
       "    <tr>\n",
       "      <th>399</th>\n",
       "      <td>75</td>\n",
       "      <td>75</td>\n",
       "      <td>0.5</td>\n",
       "      <td>TT</td>\n",
       "      <td>11.727873</td>\n",
       "    </tr>\n",
       "  </tbody>\n",
       "</table>\n",
       "<p>400 rows × 5 columns</p>\n",
       "</div>"
      ],
      "text/plain": [
       "     Prev.Length  Match.Score  Tile.Size Prev.Type  Browse.Time\n",
       "0             75           75        0.1        TT     9.059162\n",
       "1             75           75        0.2        TT     8.576086\n",
       "2             75           75        0.4        TT    11.160144\n",
       "3             75           75        0.5        TT     9.884818\n",
       "4             75           75        0.1        TT    10.093272\n",
       "..           ...          ...        ...       ...          ...\n",
       "395           75           75        0.5        TT     9.200644\n",
       "396           75           75        0.1        TT     7.950332\n",
       "397           75           75        0.2        TT    11.449020\n",
       "398           75           75        0.4        TT     9.092768\n",
       "399           75           75        0.5        TT    11.727873\n",
       "\n",
       "[400 rows x 5 columns]"
      ]
     },
     "execution_count": 23,
     "metadata": {},
     "output_type": "execute_result"
    }
   ],
   "source": [
    "df = pd.read_csv('data/fp5r.csv')\n",
    "df"
   ]
  },
  {
   "cell_type": "code",
   "execution_count": 24,
   "metadata": {},
   "outputs": [
    {
     "name": "stderr",
     "output_type": "stream",
     "text": [
      "/var/folders/rp/w4jh5qxd1gd5qhqv_rsk4syw0000gn/T/ipykernel_40311/689129245.py:1: FutureWarning: The default value of numeric_only in DataFrameGroupBy.mean is deprecated. In a future version, numeric_only will default to False. Either specify numeric_only or select only columns which should be valid for the function.\n",
      "  df.groupby(['Tile.Size']).mean()\n"
     ]
    },
    {
     "data": {
      "text/html": [
       "<div>\n",
       "<style scoped>\n",
       "    .dataframe tbody tr th:only-of-type {\n",
       "        vertical-align: middle;\n",
       "    }\n",
       "\n",
       "    .dataframe tbody tr th {\n",
       "        vertical-align: top;\n",
       "    }\n",
       "\n",
       "    .dataframe thead th {\n",
       "        text-align: right;\n",
       "    }\n",
       "</style>\n",
       "<table border=\"1\" class=\"dataframe\">\n",
       "  <thead>\n",
       "    <tr style=\"text-align: right;\">\n",
       "      <th></th>\n",
       "      <th>Prev.Length</th>\n",
       "      <th>Match.Score</th>\n",
       "      <th>Browse.Time</th>\n",
       "    </tr>\n",
       "    <tr>\n",
       "      <th>Tile.Size</th>\n",
       "      <th></th>\n",
       "      <th></th>\n",
       "      <th></th>\n",
       "    </tr>\n",
       "  </thead>\n",
       "  <tbody>\n",
       "    <tr>\n",
       "      <th>0.1</th>\n",
       "      <td>75.0</td>\n",
       "      <td>75.0</td>\n",
       "      <td>10.193478</td>\n",
       "    </tr>\n",
       "    <tr>\n",
       "      <th>0.2</th>\n",
       "      <td>75.0</td>\n",
       "      <td>75.0</td>\n",
       "      <td>9.900923</td>\n",
       "    </tr>\n",
       "    <tr>\n",
       "      <th>0.4</th>\n",
       "      <td>75.0</td>\n",
       "      <td>75.0</td>\n",
       "      <td>10.073424</td>\n",
       "    </tr>\n",
       "    <tr>\n",
       "      <th>0.5</th>\n",
       "      <td>75.0</td>\n",
       "      <td>75.0</td>\n",
       "      <td>9.965889</td>\n",
       "    </tr>\n",
       "  </tbody>\n",
       "</table>\n",
       "</div>"
      ],
      "text/plain": [
       "           Prev.Length  Match.Score  Browse.Time\n",
       "Tile.Size                                       \n",
       "0.1               75.0         75.0    10.193478\n",
       "0.2               75.0         75.0     9.900923\n",
       "0.4               75.0         75.0    10.073424\n",
       "0.5               75.0         75.0     9.965889"
      ]
     },
     "execution_count": 24,
     "metadata": {},
     "output_type": "execute_result"
    }
   ],
   "source": [
    "df.groupby(['Tile.Size']).mean()"
   ]
  },
  {
   "cell_type": "code",
   "execution_count": 27,
   "metadata": {},
   "outputs": [
    {
     "data": {
      "text/html": [
       "<div>\n",
       "<style scoped>\n",
       "    .dataframe tbody tr th:only-of-type {\n",
       "        vertical-align: middle;\n",
       "    }\n",
       "\n",
       "    .dataframe tbody tr th {\n",
       "        vertical-align: top;\n",
       "    }\n",
       "\n",
       "    .dataframe thead th {\n",
       "        text-align: right;\n",
       "    }\n",
       "</style>\n",
       "<table border=\"1\" class=\"dataframe\">\n",
       "  <thead>\n",
       "    <tr style=\"text-align: right;\">\n",
       "      <th></th>\n",
       "      <th>Prev.Length</th>\n",
       "      <th>Match.Score</th>\n",
       "      <th>Tile.Size</th>\n",
       "      <th>Prev.Type</th>\n",
       "      <th>Browse.Time</th>\n",
       "    </tr>\n",
       "  </thead>\n",
       "  <tbody>\n",
       "    <tr>\n",
       "      <th>0</th>\n",
       "      <td>79</td>\n",
       "      <td>75</td>\n",
       "      <td>0.3</td>\n",
       "      <td>TT</td>\n",
       "      <td>10.399146</td>\n",
       "    </tr>\n",
       "    <tr>\n",
       "      <th>1</th>\n",
       "      <td>79</td>\n",
       "      <td>70</td>\n",
       "      <td>0.3</td>\n",
       "      <td>TT</td>\n",
       "      <td>10.648487</td>\n",
       "    </tr>\n",
       "    <tr>\n",
       "      <th>2</th>\n",
       "      <td>75</td>\n",
       "      <td>75</td>\n",
       "      <td>0.3</td>\n",
       "      <td>TT</td>\n",
       "      <td>8.578414</td>\n",
       "    </tr>\n",
       "    <tr>\n",
       "      <th>3</th>\n",
       "      <td>79</td>\n",
       "      <td>75</td>\n",
       "      <td>0.3</td>\n",
       "      <td>TT</td>\n",
       "      <td>10.595437</td>\n",
       "    </tr>\n",
       "    <tr>\n",
       "      <th>4</th>\n",
       "      <td>79</td>\n",
       "      <td>70</td>\n",
       "      <td>0.3</td>\n",
       "      <td>TT</td>\n",
       "      <td>10.309028</td>\n",
       "    </tr>\n",
       "    <tr>\n",
       "      <th>...</th>\n",
       "      <td>...</td>\n",
       "      <td>...</td>\n",
       "      <td>...</td>\n",
       "      <td>...</td>\n",
       "      <td>...</td>\n",
       "    </tr>\n",
       "    <tr>\n",
       "      <th>295</th>\n",
       "      <td>79</td>\n",
       "      <td>70</td>\n",
       "      <td>0.3</td>\n",
       "      <td>TT</td>\n",
       "      <td>8.933296</td>\n",
       "    </tr>\n",
       "    <tr>\n",
       "      <th>296</th>\n",
       "      <td>75</td>\n",
       "      <td>75</td>\n",
       "      <td>0.3</td>\n",
       "      <td>TT</td>\n",
       "      <td>8.442406</td>\n",
       "    </tr>\n",
       "    <tr>\n",
       "      <th>297</th>\n",
       "      <td>79</td>\n",
       "      <td>75</td>\n",
       "      <td>0.3</td>\n",
       "      <td>TT</td>\n",
       "      <td>10.683936</td>\n",
       "    </tr>\n",
       "    <tr>\n",
       "      <th>298</th>\n",
       "      <td>79</td>\n",
       "      <td>70</td>\n",
       "      <td>0.3</td>\n",
       "      <td>TT</td>\n",
       "      <td>9.117951</td>\n",
       "    </tr>\n",
       "    <tr>\n",
       "      <th>299</th>\n",
       "      <td>75</td>\n",
       "      <td>75</td>\n",
       "      <td>0.3</td>\n",
       "      <td>TT</td>\n",
       "      <td>9.455753</td>\n",
       "    </tr>\n",
       "  </tbody>\n",
       "</table>\n",
       "<p>300 rows × 5 columns</p>\n",
       "</div>"
      ],
      "text/plain": [
       "     Prev.Length  Match.Score  Tile.Size Prev.Type  Browse.Time\n",
       "0             79           75        0.3        TT    10.399146\n",
       "1             79           70        0.3        TT    10.648487\n",
       "2             75           75        0.3        TT     8.578414\n",
       "3             79           75        0.3        TT    10.595437\n",
       "4             79           70        0.3        TT    10.309028\n",
       "..           ...          ...        ...       ...          ...\n",
       "295           79           70        0.3        TT     8.933296\n",
       "296           75           75        0.3        TT     8.442406\n",
       "297           79           75        0.3        TT    10.683936\n",
       "298           79           70        0.3        TT     9.117951\n",
       "299           75           75        0.3        TT     9.455753\n",
       "\n",
       "[300 rows x 5 columns]"
      ]
     },
     "execution_count": 27,
     "metadata": {},
     "output_type": "execute_result"
    }
   ],
   "source": [
    "final_df = pd.read_csv('data/fp4r.csv')\n",
    "final_df"
   ]
  },
  {
   "cell_type": "code",
   "execution_count": 28,
   "metadata": {},
   "outputs": [
    {
     "data": {
      "text/html": [
       "<div>\n",
       "<style scoped>\n",
       "    .dataframe tbody tr th:only-of-type {\n",
       "        vertical-align: middle;\n",
       "    }\n",
       "\n",
       "    .dataframe tbody tr th {\n",
       "        vertical-align: top;\n",
       "    }\n",
       "\n",
       "    .dataframe thead th {\n",
       "        text-align: right;\n",
       "    }\n",
       "</style>\n",
       "<table border=\"1\" class=\"dataframe\">\n",
       "  <thead>\n",
       "    <tr style=\"text-align: right;\">\n",
       "      <th></th>\n",
       "      <th></th>\n",
       "      <th></th>\n",
       "      <th></th>\n",
       "      <th>Browse.Time</th>\n",
       "    </tr>\n",
       "    <tr>\n",
       "      <th>Prev.Length</th>\n",
       "      <th>Match.Score</th>\n",
       "      <th>Tile.Size</th>\n",
       "      <th>Prev.Type</th>\n",
       "      <th></th>\n",
       "    </tr>\n",
       "  </thead>\n",
       "  <tbody>\n",
       "    <tr>\n",
       "      <th>75</th>\n",
       "      <th>75</th>\n",
       "      <th>0.3</th>\n",
       "      <th>TT</th>\n",
       "      <td>9.921760</td>\n",
       "    </tr>\n",
       "    <tr>\n",
       "      <th rowspan=\"2\" valign=\"top\">79</th>\n",
       "      <th>70</th>\n",
       "      <th>0.3</th>\n",
       "      <th>TT</th>\n",
       "      <td>10.264248</td>\n",
       "    </tr>\n",
       "    <tr>\n",
       "      <th>75</th>\n",
       "      <th>0.3</th>\n",
       "      <th>TT</th>\n",
       "      <td>10.063092</td>\n",
       "    </tr>\n",
       "  </tbody>\n",
       "</table>\n",
       "</div>"
      ],
      "text/plain": [
       "                                             Browse.Time\n",
       "Prev.Length Match.Score Tile.Size Prev.Type             \n",
       "75          75          0.3       TT            9.921760\n",
       "79          70          0.3       TT           10.264248\n",
       "            75          0.3       TT           10.063092"
      ]
     },
     "execution_count": 28,
     "metadata": {},
     "output_type": "execute_result"
    }
   ],
   "source": [
    "grouped_df = final_df.groupby(['Prev.Length', 'Match.Score', 'Tile.Size', 'Prev.Type']).mean()\n",
    "grouped_df"
   ]
  },
  {
   "cell_type": "code",
   "execution_count": 29,
   "metadata": {},
   "outputs": [
    {
     "data": {
      "text/plain": [
       "100"
      ]
     },
     "execution_count": 29,
     "metadata": {},
     "output_type": "execute_result"
    }
   ],
   "source": [
    "best_df = final_df[(final_df['Match.Score'] == 75) & (final_df['Prev.Length'] == 75) & (final_df['Tile.Size'] == 0.3) & (final_df['Prev.Type'] == 'TT')]\n",
    "len(best_df)"
   ]
  },
  {
   "cell_type": "code",
   "execution_count": 30,
   "metadata": {},
   "outputs": [
    {
     "data": {
      "text/html": [
       "<div>\n",
       "<style scoped>\n",
       "    .dataframe tbody tr th:only-of-type {\n",
       "        vertical-align: middle;\n",
       "    }\n",
       "\n",
       "    .dataframe tbody tr th {\n",
       "        vertical-align: top;\n",
       "    }\n",
       "\n",
       "    .dataframe thead th {\n",
       "        text-align: right;\n",
       "    }\n",
       "</style>\n",
       "<table border=\"1\" class=\"dataframe\">\n",
       "  <thead>\n",
       "    <tr style=\"text-align: right;\">\n",
       "      <th></th>\n",
       "      <th>Prev.Length</th>\n",
       "      <th>Match.Score</th>\n",
       "      <th>Tile.Size</th>\n",
       "      <th>Prev.Type</th>\n",
       "      <th>Browse.Time</th>\n",
       "    </tr>\n",
       "  </thead>\n",
       "  <tbody>\n",
       "    <tr>\n",
       "      <th>2</th>\n",
       "      <td>75</td>\n",
       "      <td>75</td>\n",
       "      <td>0.3</td>\n",
       "      <td>TT</td>\n",
       "      <td>8.578414</td>\n",
       "    </tr>\n",
       "    <tr>\n",
       "      <th>5</th>\n",
       "      <td>75</td>\n",
       "      <td>75</td>\n",
       "      <td>0.3</td>\n",
       "      <td>TT</td>\n",
       "      <td>10.984471</td>\n",
       "    </tr>\n",
       "    <tr>\n",
       "      <th>8</th>\n",
       "      <td>75</td>\n",
       "      <td>75</td>\n",
       "      <td>0.3</td>\n",
       "      <td>TT</td>\n",
       "      <td>8.145624</td>\n",
       "    </tr>\n",
       "    <tr>\n",
       "      <th>11</th>\n",
       "      <td>75</td>\n",
       "      <td>75</td>\n",
       "      <td>0.3</td>\n",
       "      <td>TT</td>\n",
       "      <td>10.721504</td>\n",
       "    </tr>\n",
       "    <tr>\n",
       "      <th>14</th>\n",
       "      <td>75</td>\n",
       "      <td>75</td>\n",
       "      <td>0.3</td>\n",
       "      <td>TT</td>\n",
       "      <td>8.916965</td>\n",
       "    </tr>\n",
       "    <tr>\n",
       "      <th>...</th>\n",
       "      <td>...</td>\n",
       "      <td>...</td>\n",
       "      <td>...</td>\n",
       "      <td>...</td>\n",
       "      <td>...</td>\n",
       "    </tr>\n",
       "    <tr>\n",
       "      <th>287</th>\n",
       "      <td>75</td>\n",
       "      <td>75</td>\n",
       "      <td>0.3</td>\n",
       "      <td>TT</td>\n",
       "      <td>9.138367</td>\n",
       "    </tr>\n",
       "    <tr>\n",
       "      <th>290</th>\n",
       "      <td>75</td>\n",
       "      <td>75</td>\n",
       "      <td>0.3</td>\n",
       "      <td>TT</td>\n",
       "      <td>8.869708</td>\n",
       "    </tr>\n",
       "    <tr>\n",
       "      <th>293</th>\n",
       "      <td>75</td>\n",
       "      <td>75</td>\n",
       "      <td>0.3</td>\n",
       "      <td>TT</td>\n",
       "      <td>9.810798</td>\n",
       "    </tr>\n",
       "    <tr>\n",
       "      <th>296</th>\n",
       "      <td>75</td>\n",
       "      <td>75</td>\n",
       "      <td>0.3</td>\n",
       "      <td>TT</td>\n",
       "      <td>8.442406</td>\n",
       "    </tr>\n",
       "    <tr>\n",
       "      <th>299</th>\n",
       "      <td>75</td>\n",
       "      <td>75</td>\n",
       "      <td>0.3</td>\n",
       "      <td>TT</td>\n",
       "      <td>9.455753</td>\n",
       "    </tr>\n",
       "  </tbody>\n",
       "</table>\n",
       "<p>100 rows × 5 columns</p>\n",
       "</div>"
      ],
      "text/plain": [
       "     Prev.Length  Match.Score  Tile.Size Prev.Type  Browse.Time\n",
       "2             75           75        0.3        TT     8.578414\n",
       "5             75           75        0.3        TT    10.984471\n",
       "8             75           75        0.3        TT     8.145624\n",
       "11            75           75        0.3        TT    10.721504\n",
       "14            75           75        0.3        TT     8.916965\n",
       "..           ...          ...        ...       ...          ...\n",
       "287           75           75        0.3        TT     9.138367\n",
       "290           75           75        0.3        TT     8.869708\n",
       "293           75           75        0.3        TT     9.810798\n",
       "296           75           75        0.3        TT     8.442406\n",
       "299           75           75        0.3        TT     9.455753\n",
       "\n",
       "[100 rows x 5 columns]"
      ]
     },
     "execution_count": 30,
     "metadata": {},
     "output_type": "execute_result"
    }
   ],
   "source": [
    "best_df"
   ]
  },
  {
   "cell_type": "code",
   "execution_count": 31,
   "metadata": {},
   "outputs": [
    {
     "data": {
      "image/png": "[encoded data removed]",
      "text/plain": [
       "<Figure size 1000x700 with 1 Axes>"
      ]
     },
     "metadata": {},
     "output_type": "display_data"
    }
   ],
   "source": [
    "fig, ax = plt.subplots(figsize=(10,7))\n",
    "ax.hist(best_df['Browse.Time'], bins=15)\n",
    "\n",
    "ax.set_xlabel('Browse Time (seconds)')\n",
    "ax.set_title('Histogram of browsing time in best configuration')\n",
    "plt.show()"
   ]
  },
  {
   "cell_type": "markdown",
   "metadata": {},
   "source": [
    "### Constructing 95% Confidence Interval"
   ]
  },
  {
   "cell_type": "code",
   "execution_count": 32,
   "metadata": {},
   "outputs": [],
   "source": [
    "n = 100\n",
    "x_bar = sum(best_df['Browse.Time'])/n\n",
    "std = np.std(best_df['Browse.Time'], ddof=1)"
   ]
  },
  {
   "cell_type": "code",
   "execution_count": 33,
   "metadata": {},
   "outputs": [
    {
     "data": {
      "text/plain": [
       "1.9842169515086827"
      ]
     },
     "execution_count": 33,
     "metadata": {},
     "output_type": "execute_result"
    }
   ],
   "source": [
    "t_value = abs(scipy.stats.t.ppf(0.975, n-1))\n",
    "t_value"
   ]
  },
  {
   "cell_type": "code",
   "execution_count": 34,
   "metadata": {},
   "outputs": [],
   "source": [
    "low_bound = x_bar - t_value*(std/np.sqrt(n))\n",
    "up_bound = x_bar + t_value*(std/np.sqrt(n))"
   ]
  },
  {
   "cell_type": "markdown",
   "metadata": {},
   "source": [
    "Confidence interval of browsing time"
   ]
  },
  {
   "cell_type": "code",
   "execution_count": 35,
   "metadata": {},
   "outputs": [
    {
     "data": {
      "text/plain": [
       "(9.706111323780842, 10.137409336568648)"
      ]
     },
     "execution_count": 35,
     "metadata": {},
     "output_type": "execute_result"
    }
   ],
   "source": [
    "(low_bound, up_bound)"
   ]
  }
 ],
 "metadata": {
  "kernelspec": {
   "display_name": "base",
   "language": "python",
   "name": "python3"
  },
  "language_info": {
   "codemirror_mode": {
    "name": "ipython",
    "version": 3
   },
   "file_extension": ".py",
   "mimetype": "text/x-python",
   "name": "python",
   "nbconvert_exporter": "python",
   "pygments_lexer": "ipython3",
   "version": "3.8.13"
  },
  "orig_nbformat": 4,
  "vscode": {
   "interpreter": {
    "hash": "b36cb969838aa7efc71662dcae87ad2e5df476bc74b903cea8549a6450c3f723"
   }
  }
 },
 "nbformat": 4,
 "nbformat_minor": 2
}
